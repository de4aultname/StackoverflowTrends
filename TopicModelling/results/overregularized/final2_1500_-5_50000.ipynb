{
 "cells": [
  {
   "cell_type": "code",
   "execution_count": 1,
   "metadata": {},
   "outputs": [],
   "source": [
    "%matplotlib inline\n",
    "import matplotlib.pyplot as plt\n",
    "import artm\n",
    "import copy\n",
    "import re\n",
    "\n",
    "\n",
    "def print_and_gather_measures(model, metrics):\n",
    "    print('Sparsity Phi: ', model.get_score('SparsityPhiScore').value)\n",
    "    metrics.append(model.get_score('SparsityPhiScore').value)\n",
    "\n",
    "    print('Sparsity Theta: ', model.get_score('SparsityThetaScore').value)\n",
    "    metrics.append(model.get_score('SparsityThetaScore').value)\n",
    "\n",
    "    print('Kernel contrast: ', model.get_score('TopicKernelScore').average_kernel_contrast)\n",
    "    metrics.append(model.get_score('TopicKernelScore').average_kernel_contrast)\n",
    "\n",
    "    print('Kernel purity: ', model.get_score('TopicKernelScore').average_kernel_purity)\n",
    "    metrics.append(model.get_score('TopicKernelScore').average_kernel_purity)\n",
    "\n",
    "    print('PerplexityScore: ', model.get_score('PerplexityScore').value)\n",
    "    metrics.append(model.get_score('PerplexityScore').value)\n",
    "\n",
    "    \n",
    "def get_clustering(model, topics):\n",
    "    phi_matrix = copy.deepcopy(model.phi_)\n",
    "    pattern = '\\(\\'@default_class\\', \\'(.*?)\\'\\)'\n",
    "    cleaned_index = [re.search(pattern, str(x)).group(1) for x in phi_matrix.index.tolist()]\n",
    "    phi_matrix.index = cleaned_index\n",
    "    num_topics = len(topics)\n",
    "    clustering = [list() for _ in range(num_topics)]\n",
    "    for i in range(num_topics):\n",
    "        current_topic = topics[i]\n",
    "        phi_matrix.sort_values(by = current_topic, ascending = False, inplace = True)\n",
    "        top_tokens = phi_matrix.index[phi_matrix[current_topic] > 0]\n",
    "        clustering[i] = top_tokens\n",
    "    return clustering\n",
    "\n",
    "def print_clustering(clustering, topics):\n",
    "    num_topics = len(topics)\n",
    "    for i in range(num_topics):\n",
    "        print(topics[i])\n",
    "        print(clustering[i])\n",
    "        print(len(clustering[i]))\n",
    "        \n",
    "def save_clustering(clustering, topics, filename):\n",
    "    f = open(filename, \"w\")\n",
    "    num_topics = len(topics)\n",
    "    for i in range(num_topics):\n",
    "        f.write(topics[i])\n",
    "        f.write(\"\\n Amount of tags in cluster: \")\n",
    "        f.write(str(len(clustering[i])))\n",
    "        f.write(\"\\n\")\n",
    "        for j in range(len(clustering[i])):\n",
    "            f.write(clustering[i][j])\n",
    "            f.write(\", \")\n",
    "        f.write(\"\\n\")\n",
    "    f.close()\n",
    "    \n",
    "def print_top_tags(score_tracker):\n",
    "    topics = score_tracker.topic_name\n",
    "    tags = score_tracker.token\n",
    "    weights = score_tracker.weight\n",
    "    for i in range(1, len(topics) + 1):\n",
    "        if ((topics[i-1] != topics[i]) | (i == 1)):\n",
    "            print(topics[i])\n",
    "        print('{}: {}, '.format(tags[i], weights[i]))\n",
    "        \n",
    "def save_top_tags(score_tracker, filename):\n",
    "    f = open(filename, \"w\")\n",
    "    topics = score_tracker.topic_name\n",
    "    tags = score_tracker.token\n",
    "    weights = score_tracker.weight\n",
    "    for i in range(1, len(topics)):\n",
    "        if ((topics[i-1] != topics[i]) | (i == 1)):\n",
    "            f.write(topics[i])\n",
    "            f.write(\"\\n\")\n",
    "        f.write('{}: {}; \\n '.format(tags[i], weights[i]))\n",
    "    f.close()"
   ]
  },
  {
   "cell_type": "code",
   "execution_count": 3,
   "metadata": {},
   "outputs": [
    {
     "data": {
      "application/vnd.jupyter.widget-view+json": {
       "model_id": "73d6dd0bffe8482abc52f0af0ae9775c",
       "version_major": 2,
       "version_minor": 0
      },
      "text/plain": [
       "HBox(children=(IntProgress(value=0, description='Pass', max=15, style=ProgressStyle(description_width='initial…"
      ]
     },
     "metadata": {},
     "output_type": "display_data"
    },
    {
     "data": {
      "application/vnd.jupyter.widget-view+json": {
       "model_id": "",
       "version_major": 2,
       "version_minor": 0
      },
      "text/plain": [
       "HBox(children=(IntProgress(value=0, description='Batch', max=18125, style=ProgressStyle(description_width='ini…"
      ]
     },
     "metadata": {},
     "output_type": "display_data"
    },
    {
     "data": {
      "application/vnd.jupyter.widget-view+json": {
       "model_id": "",
       "version_major": 2,
       "version_minor": 0
      },
      "text/plain": [
       "HBox(children=(IntProgress(value=0, description='Batch', max=18125, style=ProgressStyle(description_width='ini…"
      ]
     },
     "metadata": {},
     "output_type": "display_data"
    },
    {
     "data": {
      "application/vnd.jupyter.widget-view+json": {
       "model_id": "",
       "version_major": 2,
       "version_minor": 0
      },
      "text/plain": [
       "HBox(children=(IntProgress(value=0, description='Batch', max=18125, style=ProgressStyle(description_width='ini…"
      ]
     },
     "metadata": {},
     "output_type": "display_data"
    },
    {
     "data": {
      "application/vnd.jupyter.widget-view+json": {
       "model_id": "",
       "version_major": 2,
       "version_minor": 0
      },
      "text/plain": [
       "HBox(children=(IntProgress(value=0, description='Batch', max=18125, style=ProgressStyle(description_width='ini…"
      ]
     },
     "metadata": {},
     "output_type": "display_data"
    },
    {
     "data": {
      "application/vnd.jupyter.widget-view+json": {
       "model_id": "",
       "version_major": 2,
       "version_minor": 0
      },
      "text/plain": [
       "HBox(children=(IntProgress(value=0, description='Batch', max=18125, style=ProgressStyle(description_width='ini…"
      ]
     },
     "metadata": {},
     "output_type": "display_data"
    },
    {
     "data": {
      "application/vnd.jupyter.widget-view+json": {
       "model_id": "",
       "version_major": 2,
       "version_minor": 0
      },
      "text/plain": [
       "HBox(children=(IntProgress(value=0, description='Batch', max=18125, style=ProgressStyle(description_width='ini…"
      ]
     },
     "metadata": {},
     "output_type": "display_data"
    },
    {
     "data": {
      "application/vnd.jupyter.widget-view+json": {
       "model_id": "",
       "version_major": 2,
       "version_minor": 0
      },
      "text/plain": [
       "HBox(children=(IntProgress(value=0, description='Batch', max=18125, style=ProgressStyle(description_width='ini…"
      ]
     },
     "metadata": {},
     "output_type": "display_data"
    },
    {
     "data": {
      "application/vnd.jupyter.widget-view+json": {
       "model_id": "",
       "version_major": 2,
       "version_minor": 0
      },
      "text/plain": [
       "HBox(children=(IntProgress(value=0, description='Batch', max=18125, style=ProgressStyle(description_width='ini…"
      ]
     },
     "metadata": {},
     "output_type": "display_data"
    },
    {
     "data": {
      "application/vnd.jupyter.widget-view+json": {
       "model_id": "",
       "version_major": 2,
       "version_minor": 0
      },
      "text/plain": [
       "HBox(children=(IntProgress(value=0, description='Batch', max=18125, style=ProgressStyle(description_width='ini…"
      ]
     },
     "metadata": {},
     "output_type": "display_data"
    },
    {
     "data": {
      "application/vnd.jupyter.widget-view+json": {
       "model_id": "",
       "version_major": 2,
       "version_minor": 0
      },
      "text/plain": [
       "HBox(children=(IntProgress(value=0, description='Batch', max=18125, style=ProgressStyle(description_width='ini…"
      ]
     },
     "metadata": {},
     "output_type": "display_data"
    },
    {
     "data": {
      "application/vnd.jupyter.widget-view+json": {
       "model_id": "",
       "version_major": 2,
       "version_minor": 0
      },
      "text/plain": [
       "HBox(children=(IntProgress(value=0, description='Batch', max=18125, style=ProgressStyle(description_width='ini…"
      ]
     },
     "metadata": {},
     "output_type": "display_data"
    },
    {
     "data": {
      "application/vnd.jupyter.widget-view+json": {
       "model_id": "",
       "version_major": 2,
       "version_minor": 0
      },
      "text/plain": [
       "HBox(children=(IntProgress(value=0, description='Batch', max=18125, style=ProgressStyle(description_width='ini…"
      ]
     },
     "metadata": {},
     "output_type": "display_data"
    },
    {
     "data": {
      "application/vnd.jupyter.widget-view+json": {
       "model_id": "",
       "version_major": 2,
       "version_minor": 0
      },
      "text/plain": [
       "HBox(children=(IntProgress(value=0, description='Batch', max=18125, style=ProgressStyle(description_width='ini…"
      ]
     },
     "metadata": {},
     "output_type": "display_data"
    },
    {
     "data": {
      "application/vnd.jupyter.widget-view+json": {
       "model_id": "",
       "version_major": 2,
       "version_minor": 0
      },
      "text/plain": [
       "HBox(children=(IntProgress(value=0, description='Batch', max=18125, style=ProgressStyle(description_width='ini…"
      ]
     },
     "metadata": {},
     "output_type": "display_data"
    },
    {
     "data": {
      "application/vnd.jupyter.widget-view+json": {
       "model_id": "",
       "version_major": 2,
       "version_minor": 0
      },
      "text/plain": [
       "HBox(children=(IntProgress(value=0, description='Batch', max=18125, style=ProgressStyle(description_width='ini…"
      ]
     },
     "metadata": {},
     "output_type": "display_data"
    },
    {
     "name": "stdout",
     "output_type": "stream",
     "text": [
      "\n"
     ]
    }
   ],
   "source": [
    "batch_vectorizer = artm.BatchVectorizer(data_path='vw.tags.100.txt', data_format='vowpal_wabbit',target_folder='posts-tags-100')\n",
    "dictionary = batch_vectorizer.dictionary\n",
    "\n",
    "topic_names = ['topic_{}'.format(i) for i in range(1500)]\n",
    "model_artm = artm.ARTM(topic_names = topic_names, num_processors = 4,\n",
    "                       scores = [artm.PerplexityScore(name = 'PerplexityScore', dictionary = dictionary), \n",
    "                                artm.SparsityPhiScore(name = 'SparsityPhiScore'),\n",
    "                                artm.SparsityThetaScore(name = 'SparsityThetaScore'), \n",
    "                                artm.TopicKernelScore(name = 'TopicKernelScore', probability_mass_threshold = 0.1),\n",
    "                                artm.TopTokensScore(name = 'TopTokensScore', num_tokens = 20)],\n",
    "                       regularizers = [artm.DecorrelatorPhiRegularizer(name = 'decorrelator_phi_regularizer', tau = 50000),\n",
    "                                    artm.SmoothSparsePhiRegularizer(name='sparse_phi_regularizer', tau = -5)],\n",
    "                       seed = 62, show_progress_bars = True)\n",
    "\n",
    "model_artm.initialize(dictionary = dictionary)\n",
    "\n",
    "model_artm.fit_offline(batch_vectorizer = batch_vectorizer, num_collection_passes = 15)"
   ]
  },
  {
   "cell_type": "code",
   "execution_count": 4,
   "metadata": {},
   "outputs": [
    {
     "name": "stdout",
     "output_type": "stream",
     "text": [
      "Sparsity Phi:  0.9997446537017822\n",
      "Sparsity Theta:  0.9987877607345581\n",
      "Kernel contrast:  0.9933232665061951\n",
      "Kernel purity:  0.9933266639709473\n",
      "PerplexityScore:  18.053756713867188\n"
     ]
    }
   ],
   "source": [
    "metrics_gcp_01 = []\n",
    "print_and_gather_measures(model_artm, metrics_gcp_01)"
   ]
  },
  {
   "cell_type": "code",
   "execution_count": 5,
   "metadata": {},
   "outputs": [],
   "source": [
    "clustering = get_clustering(model_artm, topic_names)\n",
    "#print_clustering(clustering, topic_names)\n",
    "save_clustering(clustering, topic_names, \"clustering_final2.txt\")\n",
    "#print_top_tags(model_plsa.get_score('TopTokensScore'))\n",
    "save_top_tags(model_artm.get_score('TopTokensScore'), \"top_tags_final2.txt\")"
   ]
  },
  {
   "cell_type": "code",
   "execution_count": 6,
   "metadata": {},
   "outputs": [
    {
     "data": {
      "image/png": "[encoded data removed]",
      "text/plain": [
       "<Figure size 432x288 with 1 Axes>"
      ]
     },
     "metadata": {
      "needs_background": "light"
     },
     "output_type": "display_data"
    },
    {
     "data": {
      "image/png": "[encoded data removed]",
      "text/plain": [
       "<Figure size 432x288 with 1 Axes>"
      ]
     },
     "metadata": {
      "needs_background": "light"
     },
     "output_type": "display_data"
    },
    {
     "data": {
      "image/png": "[encoded data removed]",
      "text/plain": [
       "<Figure size 432x288 with 1 Axes>"
      ]
     },
     "metadata": {
      "needs_background": "light"
     },
     "output_type": "display_data"
    }
   ],
   "source": [
    "import matplotlib.pyplot as plt\n",
    "plt.plot(range(model_artm.num_phi_updates), model_artm.score_tracker['PerplexityScore'].value, 'r--', linewidth=2)\n",
    "plt.xlabel('Iterations count')\n",
    "plt.ylabel('ARTM perp')\n",
    "plt.grid(True)\n",
    "plt.show()\n",
    "\n",
    "plt.plot(range(model_artm.num_phi_updates), model_artm.score_tracker['SparsityPhiScore'].value, 'r--', linewidth=2)\n",
    "plt.xlabel('Iterations count')\n",
    "plt.ylabel('ARTM Phi sp.')\n",
    "plt.grid(True)\n",
    "plt.show()\n",
    "\n",
    "plt.plot(range(model_artm.num_phi_updates), model_artm.score_tracker['SparsityThetaScore'].value, 'r--', linewidth=2)\n",
    "plt.xlabel('Iterations count')\n",
    "plt.ylabel('PLSA Theta sp. (blue), ARTM Theta sp. (red)')\n",
    "plt.grid(True)\n",
    "plt.show()"
   ]
  },
  {
   "cell_type": "code",
   "execution_count": 9,
   "metadata": {},
   "outputs": [],
   "source": [
    "import pandas as pd\n",
    "def save_tag_to_topic_mapping(model, filename):\n",
    "    phi_matrix = copy.deepcopy(model.phi_)\n",
    "    pattern = '\\(\\'@default_class\\', \\'(.*?)\\'\\)'\n",
    "    cleaned_index = [re.search(pattern, str(x)).group(1) for x in phi_matrix.index.tolist()]\n",
    "    phi_matrix.index = cleaned_index\n",
    "    list = [phi_matrix.idxmax(axis=1), phi_matrix.max(axis=1)]\n",
    "    df = pd.concat(list, axis=1)\n",
    "    df.to_csv(filename, index = True)\n",
    "    \n",
    "save_tag_to_topic_mapping(model_artm, \"tag2topic_final2.csv\")"
   ]
  }
 ],
 "metadata": {
  "kernelspec": {
   "display_name": "Python 3",
   "language": "python",
   "name": "python3"
  },
  "language_info": {
   "codemirror_mode": {
    "name": "ipython",
    "version": 3
   },
   "file_extension": ".py",
   "mimetype": "text/x-python",
   "name": "python",
   "nbconvert_exporter": "python",
   "pygments_lexer": "ipython3",
   "version": "3.7.3"
  }
 },
 "nbformat": 4,
 "nbformat_minor": 2
}
