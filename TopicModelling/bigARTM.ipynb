{
 "cells": [
  {
   "cell_type": "code",
   "execution_count": 1,
   "metadata": {},
   "outputs": [],
   "source": [
    "%matplotlib inline\n",
    "import matplotlib.pyplot as plt\n",
    "import artm\n",
    "import copy\n",
    "import re\n",
    "\n",
    "\n",
    "def print_and_gather_measures(model, metrics):\n",
    "    print('Sparsity Phi: ', model.get_score('SparsityPhiScore').value)\n",
    "    metrics.append(model.get_score('SparsityPhiScore').value)\n",
    "\n",
    "    print('Sparsity Theta: ', model.get_score('SparsityThetaScore').value)\n",
    "    metrics.append(model.get_score('SparsityThetaScore').value)\n",
    "\n",
    "    print('Kernel contrast: ', model.get_score('TopicKernelScore').average_kernel_contrast)\n",
    "    metrics.append(model.get_score('TopicKernelScore').average_kernel_contrast)\n",
    "\n",
    "    print('Kernel purity: ', model.get_score('TopicKernelScore').average_kernel_purity)\n",
    "    metrics.append(model.get_score('TopicKernelScore').average_kernel_purity)\n",
    "\n",
    "    print('PerplexityScore: ', model.get_score('PerplexityScore').value)\n",
    "    metrics.append(model.get_score('PerplexityScore').value)\n",
    "\n",
    "    \n",
    "def get_clustering(model, topics):\n",
    "    phi_matrix = copy.deepcopy(model.phi_)\n",
    "    pattern = '\\(\\'@default_class\\', \\'(.*?)\\'\\)'\n",
    "    cleaned_index = [re.search(pattern, str(x)).group(1) for x in phi_matrix.index.tolist()]\n",
    "    phi_matrix.index = cleaned_index\n",
    "    num_topics = len(topics)\n",
    "    clustering = [list() for _ in range(num_topics)]\n",
    "    for i in range(num_topics):\n",
    "        current_topic = topics[i]\n",
    "        phi_matrix.sort_values(by = current_topic, ascending = False, inplace = True)\n",
    "        top_tokens = phi_matrix.index[phi_matrix[current_topic] > 0]\n",
    "        clustering[i] = top_tokens\n",
    "    return clustering\n",
    "\n",
    "def print_clustering(clustering, topics):\n",
    "    num_topics = len(topics)\n",
    "    for i in range(num_topics):\n",
    "        print(topics[i])\n",
    "        print(clustering[i])\n",
    "        print(len(clustering[i]))\n",
    "        \n",
    "def save_clustering(clustering, topics, filename):\n",
    "    f = open(filename, \"w\")\n",
    "    num_topics = len(topics)\n",
    "    for i in range(num_topics):\n",
    "        f.write(topics[i])\n",
    "        f.write(\"\\n Amount of tags in cluster: \")\n",
    "        f.write(str(len(clustering[i])))\n",
    "        f.write(\"\\n\")\n",
    "        for j in range(len(clustering[i])):\n",
    "            f.write(clustering[i][j])\n",
    "            f.write(\", \")\n",
    "        f.write(\"\\n\")\n",
    "    f.close()\n",
    "    \n",
    "def print_top_tags(score_tracker):\n",
    "    topics = score_tracker.topic_name\n",
    "    tags = score_tracker.token\n",
    "    weights = score_tracker.weight\n",
    "    for i in range(1, len(topics) + 1):\n",
    "        if ((topics[i-1] != topics[i]) | (i == 1)):\n",
    "            print(topics[i])\n",
    "        print('{}: {}, '.format(tags[i], weights[i]))\n",
    "        \n",
    "def save_top_tags(score_tracker, filename):\n",
    "    f = open(filename, \"w\")\n",
    "    topics = score_tracker.topic_name\n",
    "    tags = score_tracker.token\n",
    "    weights = score_tracker.weight\n",
    "    for i in range(1, len(topics)):\n",
    "        if ((topics[i-1] != topics[i]) | (i == 1)):\n",
    "            f.write(topics[i])\n",
    "            f.write(\"\\n\")\n",
    "        f.write('{}: {}; \\n '.format(tags[i], weights[i]))\n",
    "    f.close()"
   ]
  },
  {
   "cell_type": "code",
   "execution_count": null,
   "metadata": {},
   "outputs": [
    {
     "data": {
      "application/vnd.jupyter.widget-view+json": {
       "model_id": "4c69658325ac44b6b92ad6a46719faff",
       "version_major": 2,
       "version_minor": 0
      },
      "text/plain": [
       "HBox(children=(IntProgress(value=0, description='Pass', max=5, style=ProgressStyle(description_width='initial'…"
      ]
     },
     "metadata": {},
     "output_type": "display_data"
    },
    {
     "data": {
      "application/vnd.jupyter.widget-view+json": {
       "model_id": "fba397936bc842caa29de47998a5bfb8",
       "version_major": 2,
       "version_minor": 0
      },
      "text/plain": [
       "HBox(children=(IntProgress(value=0, description='Batch', max=18125, style=ProgressStyle(description_width='ini…"
      ]
     },
     "metadata": {},
     "output_type": "display_data"
    }
   ],
   "source": [
    "batch_vectorizer = artm.BatchVectorizer(data_path='vw.tags.100.txt', data_format='vowpal_wabbit',target_folder='posts-tags-100')\n",
    "dictionary = batch_vectorizer.dictionary\n",
    "\n",
    "topic_names = ['topic_{}'.format(i) for i in range(2000)]\n",
    "model_artm = artm.ARTM(topic_names = topic_names, num_processors = 4,\n",
    "                       scores = [artm.PerplexityScore(name = 'PerplexityScore', dictionary = dictionary), \n",
    "                                artm.SparsityPhiScore(name = 'SparsityPhiScore'),\n",
    "                                artm.SparsityThetaScore(name = 'SparsityThetaScore'), \n",
    "                                artm.TopicKernelScore(name = 'TopicKernelScore', probability_mass_threshold = 0.1),\n",
    "                                artm.TopTokensScore(name = 'TopTokensScore', num_tokens = 20)],\n",
    "                       regularizers = [artm.DecorrelatorPhiRegularizer(name = 'decorrelator_phi_regularizer', tau = 1000)],\n",
    "                       seed = 62, show_progress_bars = True)\n",
    "\n",
    "model_artm.initialize(dictionary = dictionary)\n",
    "\n",
    "model_artm.fit_offline(batch_vectorizer = batch_vectorizer, num_collection_passes = 5)"
   ]
  },
  {
   "cell_type": "code",
   "execution_count": 4,
   "metadata": {},
   "outputs": [
    {
     "name": "stdout",
     "output_type": "stream",
     "text": [
      "Sparsity Phi:  0.9685727953910828\n",
      "Sparsity Theta:  0.9904176592826843\n",
      "Kernel contrast:  0.938796877861023\n",
      "Kernel purity:  0.9547753930091858\n",
      "PerplexityScore:  6.244163990020752\n"
     ]
    }
   ],
   "source": [
    "metrics_gcp_01 = []\n",
    "print_and_gather_measures(model_artm, metrics_gcp_01)"
   ]
  },
  {
   "cell_type": "code",
   "execution_count": 5,
   "metadata": {},
   "outputs": [],
   "source": [
    "clustering = get_clustering(model_artm, topic_names)\n",
    "#print_clustering(clustering, topic_names)\n",
    "save_clustering(clustering, topic_names, \"clustering_gcp_artm_decorr_1000.txt\")\n",
    "#print_top_tags(model_plsa.get_score('TopTokensScore'))\n",
    "save_top_tags(model_artm.get_score('TopTokensScore'), \"top_tags_gcp_artm_decorr_1000.txt\")"
   ]
  },
  {
   "cell_type": "code",
   "execution_count": 7,
   "metadata": {},
   "outputs": [
    {
     "data": {
      "image/png": "[encoded data removed]",
      "text/plain": [
       "<Figure size 432x288 with 1 Axes>"
      ]
     },
     "metadata": {
      "needs_background": "light"
     },
     "output_type": "display_data"
    }
   ],
   "source": [
    "import matplotlib.pyplot as plt\n",
    "plt.plot(range(model_artm.num_phi_updates), model_artm.score_tracker['PerplexityScore'].value, 'r--', linewidth=2)\n",
    "plt.xlabel('Iterations count')\n",
    "plt.ylabel('ARTM perp')\n",
    "plt.grid(True)\n",
    "plt.show()"
   ]
  },
  {
   "cell_type": "code",
   "execution_count": 8,
   "metadata": {},
   "outputs": [
    {
     "data": {
      "image/png": "[encoded data removed]",
      "text/plain": [
       "<Figure size 432x288 with 1 Axes>"
      ]
     },
     "metadata": {
      "needs_background": "light"
     },
     "output_type": "display_data"
    },
    {
     "data": {
      "image/png": "[encoded data removed]",
      "text/plain": [
       "<Figure size 432x288 with 1 Axes>"
      ]
     },
     "metadata": {
      "needs_background": "light"
     },
     "output_type": "display_data"
    }
   ],
   "source": [
    "plt.plot(range(model_artm.num_phi_updates), model_artm.score_tracker['SparsityPhiScore'].value, 'r--', linewidth=2)\n",
    "plt.xlabel('Iterations count')\n",
    "plt.ylabel('ARTM Phi sp.')\n",
    "plt.grid(True)\n",
    "plt.show()\n",
    "\n",
    "plt.plot(range(model_artm.num_phi_updates), model_artm.score_tracker['SparsityThetaScore'].value, 'r--', linewidth=2)\n",
    "plt.xlabel('Iterations count')\n",
    "plt.ylabel('PLSA Theta sp. (blue), ARTM Theta sp. (red)')\n",
    "plt.grid(True)\n",
    "plt.show()"
   ]
  },
  {
   "cell_type": "code",
   "execution_count": 10,
   "metadata": {},
   "outputs": [
    {
     "data": {
      "application/vnd.jupyter.widget-view+json": {
       "model_id": "f8842d0fcf5b49d2a4667b1a97bbd146",
       "version_major": 2,
       "version_minor": 0
      },
      "text/plain": [
       "HBox(children=(IntProgress(value=0, description='Pass', max=5, style=ProgressStyle(description_width='initial'…"
      ]
     },
     "metadata": {},
     "output_type": "display_data"
    },
    {
     "data": {
      "application/vnd.jupyter.widget-view+json": {
       "model_id": "",
       "version_major": 2,
       "version_minor": 0
      },
      "text/plain": [
       "HBox(children=(IntProgress(value=0, description='Batch', max=18125, style=ProgressStyle(description_width='ini…"
      ]
     },
     "metadata": {},
     "output_type": "display_data"
    },
    {
     "data": {
      "application/vnd.jupyter.widget-view+json": {
       "model_id": "",
       "version_major": 2,
       "version_minor": 0
      },
      "text/plain": [
       "HBox(children=(IntProgress(value=0, description='Batch', max=18125, style=ProgressStyle(description_width='ini…"
      ]
     },
     "metadata": {},
     "output_type": "display_data"
    },
    {
     "data": {
      "application/vnd.jupyter.widget-view+json": {
       "model_id": "",
       "version_major": 2,
       "version_minor": 0
      },
      "text/plain": [
       "HBox(children=(IntProgress(value=0, description='Batch', max=18125, style=ProgressStyle(description_width='ini…"
      ]
     },
     "metadata": {},
     "output_type": "display_data"
    },
    {
     "data": {
      "application/vnd.jupyter.widget-view+json": {
       "model_id": "",
       "version_major": 2,
       "version_minor": 0
      },
      "text/plain": [
       "HBox(children=(IntProgress(value=0, description='Batch', max=18125, style=ProgressStyle(description_width='ini…"
      ]
     },
     "metadata": {},
     "output_type": "display_data"
    },
    {
     "data": {
      "application/vnd.jupyter.widget-view+json": {
       "model_id": "",
       "version_major": 2,
       "version_minor": 0
      },
      "text/plain": [
       "HBox(children=(IntProgress(value=0, description='Batch', max=18125, style=ProgressStyle(description_width='ini…"
      ]
     },
     "metadata": {},
     "output_type": "display_data"
    },
    {
     "name": "stdout",
     "output_type": "stream",
     "text": [
      "\n"
     ]
    }
   ],
   "source": [
    "model_artm.regularizers['decorrelator_phi_regularizer'].tau = 10000\n",
    "model_artm.fit_offline(batch_vectorizer=batch_vectorizer, num_collection_passes = 5)"
   ]
  },
  {
   "cell_type": "code",
   "execution_count": 11,
   "metadata": {},
   "outputs": [
    {
     "name": "stdout",
     "output_type": "stream",
     "text": [
      "Sparsity Phi:  0.9980279803276062\n",
      "Sparsity Theta:  0.997140109539032\n",
      "Kernel contrast:  0.9772176742553711\n",
      "Kernel purity:  0.998542845249176\n",
      "PerplexityScore:  5.826388835906982\n"
     ]
    }
   ],
   "source": [
    "metrics_gcp_02 = []\n",
    "print_and_gather_measures(model_artm, metrics_gcp_02)"
   ]
  },
  {
   "cell_type": "code",
   "execution_count": 12,
   "metadata": {},
   "outputs": [],
   "source": [
    "clustering = get_clustering(model_artm, topic_names)\n",
    "#print_clustering(clustering, topic_names)\n",
    "save_clustering(clustering, topic_names, \"clustering_gcp_artm_decorr_10000.txt\")\n",
    "#print_top_tags(model_plsa.get_score('TopTokensScore'))\n",
    "save_top_tags(model_artm.get_score('TopTokensScore'), \"top_tags_gcp_artm_decorr_10000.txt\")"
   ]
  },
  {
   "cell_type": "code",
   "execution_count": 13,
   "metadata": {
    "scrolled": false
   },
   "outputs": [
    {
     "data": {
      "image/png": "[encoded data removed]",
      "text/plain": [
       "<Figure size 432x288 with 1 Axes>"
      ]
     },
     "metadata": {
      "needs_background": "light"
     },
     "output_type": "display_data"
    },
    {
     "data": {
      "image/png": "[encoded data removed]",
      "text/plain": [
       "<Figure size 432x288 with 1 Axes>"
      ]
     },
     "metadata": {
      "needs_background": "light"
     },
     "output_type": "display_data"
    },
    {
     "data": {
      "image/png": "[encoded data removed]",
      "text/plain": [
       "<Figure size 432x288 with 1 Axes>"
      ]
     },
     "metadata": {
      "needs_background": "light"
     },
     "output_type": "display_data"
    }
   ],
   "source": [
    "import matplotlib.pyplot as plt\n",
    "plt.plot(range(model_artm.num_phi_updates), model_artm.score_tracker['PerplexityScore'].value, 'r--', linewidth=2)\n",
    "plt.xlabel('Iterations count')\n",
    "plt.ylabel('ARTM perp')\n",
    "plt.grid(True)\n",
    "plt.show()\n",
    "\n",
    "plt.plot(range(model_artm.num_phi_updates), model_artm.score_tracker['SparsityPhiScore'].value, 'r--', linewidth=2)\n",
    "plt.xlabel('Iterations count')\n",
    "plt.ylabel('ARTM Phi sp.')\n",
    "plt.grid(True)\n",
    "plt.show()\n",
    "\n",
    "plt.plot(range(model_artm.num_phi_updates), model_artm.score_tracker['SparsityThetaScore'].value, 'r--', linewidth=2)\n",
    "plt.xlabel('Iterations count')\n",
    "plt.ylabel('ARTM Theta sp. (red)')\n",
    "plt.grid(True)\n",
    "plt.show()"
   ]
  },
  {
   "cell_type": "markdown",
   "metadata": {},
   "source": [
    "# increase decorr value"
   ]
  },
  {
   "cell_type": "code",
   "execution_count": 14,
   "metadata": {},
   "outputs": [
    {
     "data": {
      "application/vnd.jupyter.widget-view+json": {
       "model_id": "b4b3a22e48c3435286aa64696992750c",
       "version_major": 2,
       "version_minor": 0
      },
      "text/plain": [
       "HBox(children=(IntProgress(value=0, description='Pass', max=5, style=ProgressStyle(description_width='initial'…"
      ]
     },
     "metadata": {},
     "output_type": "display_data"
    },
    {
     "data": {
      "application/vnd.jupyter.widget-view+json": {
       "model_id": "",
       "version_major": 2,
       "version_minor": 0
      },
      "text/plain": [
       "HBox(children=(IntProgress(value=0, description='Batch', max=18125, style=ProgressStyle(description_width='ini…"
      ]
     },
     "metadata": {},
     "output_type": "display_data"
    },
    {
     "data": {
      "application/vnd.jupyter.widget-view+json": {
       "model_id": "",
       "version_major": 2,
       "version_minor": 0
      },
      "text/plain": [
       "HBox(children=(IntProgress(value=0, description='Batch', max=18125, style=ProgressStyle(description_width='ini…"
      ]
     },
     "metadata": {},
     "output_type": "display_data"
    },
    {
     "data": {
      "application/vnd.jupyter.widget-view+json": {
       "model_id": "",
       "version_major": 2,
       "version_minor": 0
      },
      "text/plain": [
       "HBox(children=(IntProgress(value=0, description='Batch', max=18125, style=ProgressStyle(description_width='ini…"
      ]
     },
     "metadata": {},
     "output_type": "display_data"
    },
    {
     "data": {
      "application/vnd.jupyter.widget-view+json": {
       "model_id": "6f2999f6f02a46ebb263c1670e738f26",
       "version_major": 2,
       "version_minor": 0
      },
      "text/plain": [
       "HBox(children=(IntProgress(value=0, description='Batch', max=18125, style=ProgressStyle(description_width='ini…"
      ]
     },
     "metadata": {},
     "output_type": "display_data"
    },
    {
     "name": "stderr",
     "output_type": "stream",
     "text": [
      "IOPub message rate exceeded.\n",
      "The notebook server will temporarily stop sending output\n",
      "to the client in order to avoid crashing it.\n",
      "To change this limit, set the config variable\n",
      "`--NotebookApp.iopub_msg_rate_limit`.\n",
      "\n",
      "Current values:\n",
      "NotebookApp.iopub_msg_rate_limit=1000.0 (msgs/sec)\n",
      "NotebookApp.rate_limit_window=3.0 (secs)\n",
      "\n"
     ]
    },
    {
     "name": "stdout",
     "output_type": "stream",
     "text": [
      "\n"
     ]
    }
   ],
   "source": [
    "model_copy = copy.deepcopy(model_artm)\n",
    "model_copy.regularizers['decorrelator_phi_regularizer'].tau = 100000\n",
    "model_copy.fit_offline(batch_vectorizer=batch_vectorizer, num_collection_passes = 5)"
   ]
  },
  {
   "cell_type": "code",
   "execution_count": 15,
   "metadata": {},
   "outputs": [
    {
     "name": "stdout",
     "output_type": "stream",
     "text": [
      "Sparsity Phi:  0.9992735981941223\n",
      "Sparsity Theta:  0.998597264289856\n",
      "Kernel contrast:  0.9892445206642151\n",
      "Kernel purity:  0.9944363236427307\n",
      "PerplexityScore:  8.427083969116211\n"
     ]
    }
   ],
   "source": [
    "metrics_gcp_03 = []\n",
    "print_and_gather_measures(model_copy, metrics_gcp_03)"
   ]
  },
  {
   "cell_type": "code",
   "execution_count": 16,
   "metadata": {},
   "outputs": [],
   "source": [
    "clustering = get_clustering(model_copy, topic_names)\n",
    "#print_clustering(clustering, topic_names)\n",
    "save_clustering(clustering, topic_names, \"clustering_gcp_artm_decorr_100000.txt\")\n",
    "#print_top_tags(model_plsa.get_score('TopTokensScore'))\n",
    "save_top_tags(model_copy.get_score('TopTokensScore'), \"top_tags_gcp_artm_decorr_100000.txt\")"
   ]
  },
  {
   "cell_type": "code",
   "execution_count": 17,
   "metadata": {},
   "outputs": [
    {
     "data": {
      "image/png": "[encoded data removed]",
      "text/plain": [
       "<Figure size 432x288 with 1 Axes>"
      ]
     },
     "metadata": {
      "needs_background": "light"
     },
     "output_type": "display_data"
    },
    {
     "data": {
      "image/png": "[encoded data removed]",
      "text/plain": [
       "<Figure size 432x288 with 1 Axes>"
      ]
     },
     "metadata": {
      "needs_background": "light"
     },
     "output_type": "display_data"
    },
    {
     "data": {
      "image/png": "[encoded data removed]",
      "text/plain": [
       "<Figure size 432x288 with 1 Axes>"
      ]
     },
     "metadata": {
      "needs_background": "light"
     },
     "output_type": "display_data"
    }
   ],
   "source": [
    "plt.plot(range(model_copy.num_phi_updates), model_copy.score_tracker['PerplexityScore'].value, 'r--', linewidth=2)\n",
    "plt.xlabel('Iterations count')\n",
    "plt.ylabel('ARTM perp')\n",
    "plt.grid(True)\n",
    "plt.show()\n",
    "\n",
    "plt.plot(range(model_copy.num_phi_updates), model_copy.score_tracker['SparsityPhiScore'].value, 'r--', linewidth=2)\n",
    "plt.xlabel('Iterations count')\n",
    "plt.ylabel('ARTM Phi sp.')\n",
    "plt.grid(True)\n",
    "plt.show()\n",
    "\n",
    "plt.plot(range(model_copy.num_phi_updates), model_copy.score_tracker['SparsityThetaScore'].value, 'r--', linewidth=2)\n",
    "plt.xlabel('Iterations count')\n",
    "plt.ylabel('ARTM Theta sp. (red)')\n",
    "plt.grid(True)\n",
    "plt.show()"
   ]
  },
  {
   "cell_type": "markdown",
   "metadata": {},
   "source": [
    "# Mean decorr value"
   ]
  },
  {
   "cell_type": "code",
   "execution_count": null,
   "metadata": {},
   "outputs": [
    {
     "data": {
      "application/vnd.jupyter.widget-view+json": {
       "model_id": "cbb43199076645a1926e9b8128254df4",
       "version_major": 2,
       "version_minor": 0
      },
      "text/plain": [
       "HBox(children=(IntProgress(value=0, description='Pass', max=2, style=ProgressStyle(description_width='initial'…"
      ]
     },
     "metadata": {},
     "output_type": "display_data"
    },
    {
     "data": {
      "application/vnd.jupyter.widget-view+json": {
       "model_id": "",
       "version_major": 2,
       "version_minor": 0
      },
      "text/plain": [
       "HBox(children=(IntProgress(value=0, description='Batch', max=18125, style=ProgressStyle(description_width='ini…"
      ]
     },
     "metadata": {},
     "output_type": "display_data"
    },
    {
     "data": {
      "application/vnd.jupyter.widget-view+json": {
       "model_id": "ff251358aecc4357ae3bf52671936e7e",
       "version_major": 2,
       "version_minor": 0
      },
      "text/plain": [
       "HBox(children=(IntProgress(value=0, description='Batch', max=18125, style=ProgressStyle(description_width='ini…"
      ]
     },
     "metadata": {},
     "output_type": "display_data"
    }
   ],
   "source": [
    "model_copy = copy.deepcopy(model_artm)\n",
    "model_copy.regularizers['decorrelator_phi_regularizer'].tau = 50000\n",
    "model_copy.fit_offline(batch_vectorizer=batch_vectorizer, num_collection_passes = 2)"
   ]
  },
  {
   "cell_type": "code",
   "execution_count": 25,
   "metadata": {},
   "outputs": [
    {
     "name": "stdout",
     "output_type": "stream",
     "text": [
      "Sparsity Phi:  0.9989359378814697\n",
      "Sparsity Theta:  0.9978213906288147\n",
      "Kernel contrast:  0.9852306842803955\n",
      "Kernel purity:  0.9978635907173157\n",
      "PerplexityScore:  6.848913192749023\n"
     ]
    }
   ],
   "source": [
    "metrics_gcp_04 = []\n",
    "print_and_gather_measures(model_copy, metrics_gcp_04)"
   ]
  },
  {
   "cell_type": "code",
   "execution_count": 22,
   "metadata": {},
   "outputs": [],
   "source": [
    "clustering = get_clustering(model_copy, topic_names)\n",
    "#print_clustering(clustering, topic_names)\n",
    "save_clustering(clustering, topic_names, \"clustering_gcp_artm_decorr_50000.txt\")\n",
    "#print_top_tags(model_plsa.get_score('TopTokensScore'))\n",
    "save_top_tags(model_copy.get_score('TopTokensScore'), \"top_tags_gcp_artm_decorr_50000.txt\")"
   ]
  },
  {
   "cell_type": "code",
   "execution_count": 23,
   "metadata": {},
   "outputs": [
    {
     "data": {
      "image/png": "[encoded data removed]",
      "text/plain": [
       "<Figure size 432x288 with 1 Axes>"
      ]
     },
     "metadata": {
      "needs_background": "light"
     },
     "output_type": "display_data"
    },
    {
     "data": {
      "image/png": "[encoded data removed]",
      "text/plain": [
       "<Figure size 432x288 with 1 Axes>"
      ]
     },
     "metadata": {
      "needs_background": "light"
     },
     "output_type": "display_data"
    },
    {
     "data": {
      "image/png": "[encoded data removed]",
      "text/plain": [
       "<Figure size 432x288 with 1 Axes>"
      ]
     },
     "metadata": {
      "needs_background": "light"
     },
     "output_type": "display_data"
    }
   ],
   "source": [
    "plt.plot(range(model_copy.num_phi_updates), model_copy.score_tracker['PerplexityScore'].value, 'r--', linewidth=2)\n",
    "plt.xlabel('Iterations count')\n",
    "plt.ylabel('ARTM perp')\n",
    "plt.grid(True)\n",
    "plt.show()\n",
    "\n",
    "plt.plot(range(model_copy.num_phi_updates), model_copy.score_tracker['SparsityPhiScore'].value, 'r--', linewidth=2)\n",
    "plt.xlabel('Iterations count')\n",
    "plt.ylabel('ARTM Phi sp.')\n",
    "plt.grid(True)\n",
    "plt.show()\n",
    "\n",
    "plt.plot(range(model_copy.num_phi_updates), model_copy.score_tracker['SparsityThetaScore'].value, 'r--', linewidth=2)\n",
    "plt.xlabel('Iterations count')\n",
    "plt.ylabel('ARTM Theta sp. (red)')\n",
    "plt.grid(True)\n",
    "plt.show()"
   ]
  },
  {
   "cell_type": "markdown",
   "metadata": {},
   "source": [
    "# Seems like 2k topics is too much"
   ]
  },
  {
   "cell_type": "code",
   "execution_count": null,
   "metadata": {},
   "outputs": [
    {
     "data": {
      "application/vnd.jupyter.widget-view+json": {
       "model_id": "ba438df4ece94c7da664218dec36f621",
       "version_major": 2,
       "version_minor": 0
      },
      "text/plain": [
       "HBox(children=(IntProgress(value=0, description='Pass', max=5, style=ProgressStyle(description_width='initial'…"
      ]
     },
     "metadata": {},
     "output_type": "display_data"
    },
    {
     "data": {
      "application/vnd.jupyter.widget-view+json": {
       "model_id": "ffbddf9f529a49bb87dd311f6c676bee",
       "version_major": 2,
       "version_minor": 0
      },
      "text/plain": [
       "HBox(children=(IntProgress(value=0, description='Batch', max=18125, style=ProgressStyle(description_width='ini…"
      ]
     },
     "metadata": {},
     "output_type": "display_data"
    }
   ],
   "source": [
    "batch_vectorizer = artm.BatchVectorizer(data_path='vw.tags.100.txt', data_format='vowpal_wabbit',target_folder='posts-tags-100')\n",
    "dictionary = batch_vectorizer.dictionary\n",
    "\n",
    "topic_names = ['topic_{}'.format(i) for i in range(1000)]\n",
    "model_artm = artm.ARTM(topic_names = topic_names, num_processors = 4,\n",
    "                       scores = [artm.PerplexityScore(name = 'PerplexityScore', dictionary = dictionary), \n",
    "                                artm.SparsityPhiScore(name = 'SparsityPhiScore'),\n",
    "                                artm.SparsityThetaScore(name = 'SparsityThetaScore'), \n",
    "                                artm.TopicKernelScore(name = 'TopicKernelScore', probability_mass_threshold = 0.1),\n",
    "                                artm.TopTokensScore(name = 'TopTokensScore', num_tokens = 20)],\n",
    "                       regularizers = [artm.DecorrelatorPhiRegularizer(name = 'decorrelator_phi_regularizer', tau = 100000)],\n",
    "                       seed = 62, show_progress_bars = True)\n",
    "\n",
    "model_artm.initialize(dictionary = dictionary)\n",
    "\n",
    "model_artm.fit_offline(batch_vectorizer = batch_vectorizer, num_collection_passes = 5)"
   ]
  },
  {
   "cell_type": "code",
   "execution_count": 10,
   "metadata": {},
   "outputs": [
    {
     "name": "stdout",
     "output_type": "stream",
     "text": [
      "Sparsity Phi:  0.9989913702011108\n",
      "Sparsity Theta:  0.9979697465896606\n",
      "Kernel contrast:  0.9964474439620972\n",
      "Kernel purity:  0.9999284148216248\n",
      "PerplexityScore:  14.143622398376465\n"
     ]
    }
   ],
   "source": [
    "metrics_gcp_01 = []\n",
    "print_and_gather_measures(model_artm, metrics_gcp_01)"
   ]
  },
  {
   "cell_type": "code",
   "execution_count": 11,
   "metadata": {},
   "outputs": [],
   "source": [
    "clustering = get_clustering(model_artm, topic_names)\n",
    "#print_clustering(clustering, topic_names)\n",
    "save_clustering(clustering, topic_names, \"clustering_gcp_artm_decorr_100000.txt\")\n",
    "#print_top_tags(model_plsa.get_score('TopTokensScore'))\n",
    "save_top_tags(model_artm.get_score('TopTokensScore'), \"top_tags_gcp_artm_decorr_100000.txt\")"
   ]
  },
  {
   "cell_type": "code",
   "execution_count": 12,
   "metadata": {},
   "outputs": [
    {
     "data": {
      "image/png": "[encoded data removed]",
      "text/plain": [
       "<Figure size 432x288 with 1 Axes>"
      ]
     },
     "metadata": {
      "needs_background": "light"
     },
     "output_type": "display_data"
    },
    {
     "data": {
      "image/png": "[encoded data removed]",
      "text/plain": [
       "<Figure size 432x288 with 1 Axes>"
      ]
     },
     "metadata": {
      "needs_background": "light"
     },
     "output_type": "display_data"
    },
    {
     "data": {
      "image/png": "[encoded data removed]",
      "text/plain": [
       "<Figure size 432x288 with 1 Axes>"
      ]
     },
     "metadata": {
      "needs_background": "light"
     },
     "output_type": "display_data"
    }
   ],
   "source": [
    "plt.plot(range(model_artm.num_phi_updates), model_artm.score_tracker['PerplexityScore'].value, 'r--', linewidth=2)\n",
    "plt.xlabel('Iterations count')\n",
    "plt.ylabel('ARTM perp')\n",
    "plt.grid(True)\n",
    "plt.show()\n",
    "\n",
    "plt.plot(range(model_artm.num_phi_updates), model_artm.score_tracker['SparsityPhiScore'].value, 'r--', linewidth=2)\n",
    "plt.xlabel('Iterations count')\n",
    "plt.ylabel('ARTM Phi sp.')\n",
    "plt.grid(True)\n",
    "plt.show()\n",
    "\n",
    "plt.plot(range(model_artm.num_phi_updates), model_artm.score_tracker['SparsityThetaScore'].value, 'r--', linewidth=2)\n",
    "plt.xlabel('Iterations count')\n",
    "plt.ylabel('ARTM Theta sp. (red)')\n",
    "plt.grid(True)\n",
    "plt.show()"
   ]
  },
  {
   "cell_type": "code",
   "execution_count": null,
   "metadata": {},
   "outputs": [],
   "source": [
    "model_artm.regularizers.add(artm.SmoothSparsePhiRegularizer(name='SparsePhi', tau = -1.5))\n",
    "model_artm.fit_offline(batch_vectorizer = batch_vectorizer, num_collection_passes = 5)"
   ]
  },
  {
   "cell_type": "code",
   "execution_count": 13,
   "metadata": {},
   "outputs": [
    {
     "name": "stdout",
     "output_type": "stream",
     "text": [
      "Sparsity Phi:  0.9989913702011108\n",
      "Sparsity Theta:  0.9979697465896606\n",
      "Kernel contrast:  0.9964474439620972\n",
      "Kernel purity:  0.9999284148216248\n",
      "PerplexityScore:  14.143622398376465\n"
     ]
    }
   ],
   "source": [
    "metrics_gcp_02 = []\n",
    "print_and_gather_measures(model_artm, metrics_gcp_02)"
   ]
  },
  {
   "cell_type": "code",
   "execution_count": null,
   "metadata": {},
   "outputs": [],
   "source": [
    "clustering = get_clustering(model_artm, topic_names)\n",
    "#print_clustering(clustering, topic_names)\n",
    "save_clustering(clustering, topic_names, \"clustering_gcp_artm_decorr_100000_sparse_-1.5.txt\")\n",
    "#print_top_tags(model_plsa.get_score('TopTokensScore'))\n",
    "save_top_tags(model_artm.get_score('TopTokensScore'), \"top_tags_gcp_artm_decorr_100000_sparse_-1.5.txt\")"
   ]
  },
  {
   "cell_type": "code",
   "execution_count": 14,
   "metadata": {},
   "outputs": [
    {
     "data": {
      "image/png": "[encoded data removed]",
      "text/plain": [
       "<Figure size 432x288 with 1 Axes>"
      ]
     },
     "metadata": {
      "needs_background": "light"
     },
     "output_type": "display_data"
    },
    {
     "data": {
      "image/png": "[encoded data removed]",
      "text/plain": [
       "<Figure size 432x288 with 1 Axes>"
      ]
     },
     "metadata": {
      "needs_background": "light"
     },
     "output_type": "display_data"
    },
    {
     "data": {
      "image/png": "[encoded data removed]",
      "text/plain": [
       "<Figure size 432x288 with 1 Axes>"
      ]
     },
     "metadata": {
      "needs_background": "light"
     },
     "output_type": "display_data"
    }
   ],
   "source": [
    "plt.plot(range(model_artm.num_phi_updates), model_artm.score_tracker['PerplexityScore'].value, 'r--', linewidth=2)\n",
    "plt.xlabel('Iterations count')\n",
    "plt.ylabel('ARTM perp')\n",
    "plt.grid(True)\n",
    "plt.show()\n",
    "\n",
    "plt.plot(range(model_artm.num_phi_updates), model_artm.score_tracker['SparsityPhiScore'].value, 'r--', linewidth=2)\n",
    "plt.xlabel('Iterations count')\n",
    "plt.ylabel('ARTM Phi sp.')\n",
    "plt.grid(True)\n",
    "plt.show()\n",
    "\n",
    "plt.plot(range(model_artm.num_phi_updates), model_artm.score_tracker['SparsityThetaScore'].value, 'r--', linewidth=2)\n",
    "plt.xlabel('Iterations count')\n",
    "plt.ylabel('ARTM Theta sp. (red)')\n",
    "plt.grid(True)\n",
    "plt.show()"
   ]
  },
  {
   "cell_type": "code",
   "execution_count": 15,
   "metadata": {},
   "outputs": [
    {
     "data": {
      "application/vnd.jupyter.widget-view+json": {
       "model_id": "c0d0437f02dd422c92996d9e0c0ccf02",
       "version_major": 2,
       "version_minor": 0
      },
      "text/plain": [
       "HBox(children=(IntProgress(value=0, description='Pass', max=5, style=ProgressStyle(description_width='initial'…"
      ]
     },
     "metadata": {},
     "output_type": "display_data"
    },
    {
     "data": {
      "application/vnd.jupyter.widget-view+json": {
       "model_id": "",
       "version_major": 2,
       "version_minor": 0
      },
      "text/plain": [
       "HBox(children=(IntProgress(value=0, description='Batch', max=18125, style=ProgressStyle(description_width='ini…"
      ]
     },
     "metadata": {},
     "output_type": "display_data"
    },
    {
     "data": {
      "application/vnd.jupyter.widget-view+json": {
       "model_id": "",
       "version_major": 2,
       "version_minor": 0
      },
      "text/plain": [
       "HBox(children=(IntProgress(value=0, description='Batch', max=18125, style=ProgressStyle(description_width='ini…"
      ]
     },
     "metadata": {},
     "output_type": "display_data"
    },
    {
     "data": {
      "application/vnd.jupyter.widget-view+json": {
       "model_id": "",
       "version_major": 2,
       "version_minor": 0
      },
      "text/plain": [
       "HBox(children=(IntProgress(value=0, description='Batch', max=18125, style=ProgressStyle(description_width='ini…"
      ]
     },
     "metadata": {},
     "output_type": "display_data"
    },
    {
     "data": {
      "application/vnd.jupyter.widget-view+json": {
       "model_id": "",
       "version_major": 2,
       "version_minor": 0
      },
      "text/plain": [
       "HBox(children=(IntProgress(value=0, description='Batch', max=18125, style=ProgressStyle(description_width='ini…"
      ]
     },
     "metadata": {},
     "output_type": "display_data"
    },
    {
     "data": {
      "application/vnd.jupyter.widget-view+json": {
       "model_id": "",
       "version_major": 2,
       "version_minor": 0
      },
      "text/plain": [
       "HBox(children=(IntProgress(value=0, description='Batch', max=18125, style=ProgressStyle(description_width='ini…"
      ]
     },
     "metadata": {},
     "output_type": "display_data"
    },
    {
     "name": "stdout",
     "output_type": "stream",
     "text": [
      "\n"
     ]
    }
   ],
   "source": [
    "model_artm.regularizers['decorrelator_phi_regularizer'].tau = 500000\n",
    "model_artm.fit_offline(batch_vectorizer=batch_vectorizer, num_collection_passes = 5)"
   ]
  },
  {
   "cell_type": "code",
   "execution_count": 16,
   "metadata": {},
   "outputs": [
    {
     "name": "stdout",
     "output_type": "stream",
     "text": [
      "Sparsity Phi:  0.9990005493164062\n",
      "Sparsity Theta:  0.9979730248451233\n",
      "Kernel contrast:  0.9990953803062439\n",
      "Kernel purity:  0.9999878406524658\n",
      "PerplexityScore:  14.128220558166504\n"
     ]
    }
   ],
   "source": [
    "metrics_gcp_03 = []\n",
    "print_and_gather_measures(model_artm, metrics_gcp_03)"
   ]
  },
  {
   "cell_type": "code",
   "execution_count": 17,
   "metadata": {},
   "outputs": [],
   "source": [
    "clustering = get_clustering(model_artm, topic_names)\n",
    "#print_clustering(clustering, topic_names)\n",
    "save_clustering(clustering, topic_names, \"clustering_gcp_artm_decorr_500000_sparse_-1.5.txt\")\n",
    "#print_top_tags(model_plsa.get_score('TopTokensScore'))\n",
    "save_top_tags(model_artm.get_score('TopTokensScore'), \"top_tags_gcp_artm_decorr_500000_sparse_-1.5.txt\")"
   ]
  },
  {
   "cell_type": "code",
   "execution_count": 18,
   "metadata": {},
   "outputs": [
    {
     "data": {
      "image/png": "[encoded data removed]",
      "text/plain": [
       "<Figure size 432x288 with 1 Axes>"
      ]
     },
     "metadata": {
      "needs_background": "light"
     },
     "output_type": "display_data"
    },
    {
     "data": {
      "image/png": "[encoded data removed]",
      "text/plain": [
       "<Figure size 432x288 with 1 Axes>"
      ]
     },
     "metadata": {
      "needs_background": "light"
     },
     "output_type": "display_data"
    },
    {
     "data": {
      "image/png": "[encoded data removed]",
      "text/plain": [
       "<Figure size 432x288 with 1 Axes>"
      ]
     },
     "metadata": {
      "needs_background": "light"
     },
     "output_type": "display_data"
    }
   ],
   "source": [
    "plt.plot(range(model_artm.num_phi_updates), model_artm.score_tracker['PerplexityScore'].value, 'r--', linewidth=2)\n",
    "plt.xlabel('Iterations count')\n",
    "plt.ylabel('ARTM perp')\n",
    "plt.grid(True)\n",
    "plt.show()\n",
    "\n",
    "plt.plot(range(model_artm.num_phi_updates), model_artm.score_tracker['SparsityPhiScore'].value, 'r--', linewidth=2)\n",
    "plt.xlabel('Iterations count')\n",
    "plt.ylabel('ARTM Phi sp.')\n",
    "plt.grid(True)\n",
    "plt.show()\n",
    "\n",
    "plt.plot(range(model_artm.num_phi_updates), model_artm.score_tracker['SparsityThetaScore'].value, 'r--', linewidth=2)\n",
    "plt.xlabel('Iterations count')\n",
    "plt.ylabel('ARTM Theta sp. (red)')\n",
    "plt.grid(True)\n",
    "plt.show()"
   ]
  },
  {
   "cell_type": "code",
   "execution_count": 19,
   "metadata": {},
   "outputs": [
    {
     "data": {
      "application/vnd.jupyter.widget-view+json": {
       "model_id": "775a02b829874018ad6e1ceccba1e9d2",
       "version_major": 2,
       "version_minor": 0
      },
      "text/plain": [
       "HBox(children=(IntProgress(value=0, description='Pass', max=5, style=ProgressStyle(description_width='initial'…"
      ]
     },
     "metadata": {},
     "output_type": "display_data"
    },
    {
     "data": {
      "application/vnd.jupyter.widget-view+json": {
       "model_id": "",
       "version_major": 2,
       "version_minor": 0
      },
      "text/plain": [
       "HBox(children=(IntProgress(value=0, description='Batch', max=18125, style=ProgressStyle(description_width='ini…"
      ]
     },
     "metadata": {},
     "output_type": "display_data"
    },
    {
     "data": {
      "application/vnd.jupyter.widget-view+json": {
       "model_id": "",
       "version_major": 2,
       "version_minor": 0
      },
      "text/plain": [
       "HBox(children=(IntProgress(value=0, description='Batch', max=18125, style=ProgressStyle(description_width='ini…"
      ]
     },
     "metadata": {},
     "output_type": "display_data"
    },
    {
     "data": {
      "application/vnd.jupyter.widget-view+json": {
       "model_id": "",
       "version_major": 2,
       "version_minor": 0
      },
      "text/plain": [
       "HBox(children=(IntProgress(value=0, description='Batch', max=18125, style=ProgressStyle(description_width='ini…"
      ]
     },
     "metadata": {},
     "output_type": "display_data"
    },
    {
     "data": {
      "application/vnd.jupyter.widget-view+json": {
       "model_id": "",
       "version_major": 2,
       "version_minor": 0
      },
      "text/plain": [
       "HBox(children=(IntProgress(value=0, description='Batch', max=18125, style=ProgressStyle(description_width='ini…"
      ]
     },
     "metadata": {},
     "output_type": "display_data"
    },
    {
     "data": {
      "application/vnd.jupyter.widget-view+json": {
       "model_id": "",
       "version_major": 2,
       "version_minor": 0
      },
      "text/plain": [
       "HBox(children=(IntProgress(value=0, description='Batch', max=18125, style=ProgressStyle(description_width='ini…"
      ]
     },
     "metadata": {},
     "output_type": "display_data"
    },
    {
     "name": "stdout",
     "output_type": "stream",
     "text": [
      "\n"
     ]
    }
   ],
   "source": [
    "model_artm.regularizers['SparsePhi'].tau = -10\n",
    "model_artm.fit_offline(batch_vectorizer=batch_vectorizer, num_collection_passes = 5)"
   ]
  },
  {
   "cell_type": "code",
   "execution_count": 20,
   "metadata": {},
   "outputs": [
    {
     "name": "stdout",
     "output_type": "stream",
     "text": [
      "Sparsity Phi:  0.9990020990371704\n",
      "Sparsity Theta:  0.9979737401008606\n",
      "Kernel contrast:  0.9998511075973511\n",
      "Kernel purity:  0.9999968409538269\n",
      "PerplexityScore:  14.1259765625\n"
     ]
    }
   ],
   "source": [
    "metrics_gcp_04 = []\n",
    "print_and_gather_measures(model_artm, metrics_gcp_04)"
   ]
  },
  {
   "cell_type": "code",
   "execution_count": 21,
   "metadata": {},
   "outputs": [],
   "source": [
    "clustering = get_clustering(model_artm, topic_names)\n",
    "#print_clustering(clustering, topic_names)\n",
    "save_clustering(clustering, topic_names, \"clustering_gcp_artm_decorr_500000_sparse_-10.txt\")\n",
    "#print_top_tags(model_plsa.get_score('TopTokensScore'))\n",
    "save_top_tags(model_artm.get_score('TopTokensScore'), \"top_tags_gcp_artm_decorr_500000_sparse_-10.txt\")"
   ]
  },
  {
   "cell_type": "code",
   "execution_count": 22,
   "metadata": {},
   "outputs": [
    {
     "data": {
      "application/vnd.jupyter.widget-view+json": {
       "model_id": "a7adfa4295994b65a070e5a5e604a732",
       "version_major": 2,
       "version_minor": 0
      },
      "text/plain": [
       "HBox(children=(IntProgress(value=0, description='Pass', max=5, style=ProgressStyle(description_width='initial'…"
      ]
     },
     "metadata": {},
     "output_type": "display_data"
    },
    {
     "data": {
      "application/vnd.jupyter.widget-view+json": {
       "model_id": "",
       "version_major": 2,
       "version_minor": 0
      },
      "text/plain": [
       "HBox(children=(IntProgress(value=0, description='Batch', max=18125, style=ProgressStyle(description_width='ini…"
      ]
     },
     "metadata": {},
     "output_type": "display_data"
    },
    {
     "data": {
      "application/vnd.jupyter.widget-view+json": {
       "model_id": "",
       "version_major": 2,
       "version_minor": 0
      },
      "text/plain": [
       "HBox(children=(IntProgress(value=0, description='Batch', max=18125, style=ProgressStyle(description_width='ini…"
      ]
     },
     "metadata": {},
     "output_type": "display_data"
    },
    {
     "data": {
      "application/vnd.jupyter.widget-view+json": {
       "model_id": "",
       "version_major": 2,
       "version_minor": 0
      },
      "text/plain": [
       "HBox(children=(IntProgress(value=0, description='Batch', max=18125, style=ProgressStyle(description_width='ini…"
      ]
     },
     "metadata": {},
     "output_type": "display_data"
    },
    {
     "data": {
      "application/vnd.jupyter.widget-view+json": {
       "model_id": "",
       "version_major": 2,
       "version_minor": 0
      },
      "text/plain": [
       "HBox(children=(IntProgress(value=0, description='Batch', max=18125, style=ProgressStyle(description_width='ini…"
      ]
     },
     "metadata": {},
     "output_type": "display_data"
    },
    {
     "data": {
      "application/vnd.jupyter.widget-view+json": {
       "model_id": "",
       "version_major": 2,
       "version_minor": 0
      },
      "text/plain": [
       "HBox(children=(IntProgress(value=0, description='Batch', max=18125, style=ProgressStyle(description_width='ini…"
      ]
     },
     "metadata": {},
     "output_type": "display_data"
    },
    {
     "name": "stdout",
     "output_type": "stream",
     "text": [
      "\n"
     ]
    }
   ],
   "source": [
    "model_artm.regularizers.add(artm.TopicSelectionThetaRegularizer(name='topic_selection_reg', tau = 0.5))\n",
    "model_artm.fit_offline(batch_vectorizer=batch_vectorizer, num_collection_passes = 5)"
   ]
  },
  {
   "cell_type": "code",
   "execution_count": 23,
   "metadata": {},
   "outputs": [
    {
     "name": "stdout",
     "output_type": "stream",
     "text": [
      "Sparsity Phi:  0.9993268251419067\n",
      "Sparsity Theta:  0.9982075095176697\n",
      "Kernel contrast:  0.6819061636924744\n",
      "Kernel purity:  0.6819999814033508\n",
      "PerplexityScore:  24.994522094726562\n"
     ]
    }
   ],
   "source": [
    "metrics_gcp_05 = []\n",
    "print_and_gather_measures(model_artm, metrics_gcp_05)"
   ]
  },
  {
   "cell_type": "code",
   "execution_count": 24,
   "metadata": {},
   "outputs": [],
   "source": [
    "clustering = get_clustering(model_artm, topic_names)\n",
    "#print_clustering(clustering, topic_names)\n",
    "save_clustering(clustering, topic_names, \"clustering_gcp_artm_decorr_500000_sparse_-10_selection_0.5.txt\")\n",
    "#print_top_tags(model_plsa.get_score('TopTokensScore'))\n",
    "save_top_tags(model_artm.get_score('TopTokensScore'), \"top_tags_gcp_artm_decorr_500000_sparse_-10_selection_0.5.txt\")"
   ]
  }
 ],
 "metadata": {
  "kernelspec": {
   "display_name": "Python 3",
   "language": "python",
   "name": "python3"
  },
  "language_info": {
   "codemirror_mode": {
    "name": "ipython",
    "version": 3
   },
   "file_extension": ".py",
   "mimetype": "text/x-python",
   "name": "python",
   "nbconvert_exporter": "python",
   "pygments_lexer": "ipython3",
   "version": "3.7.3"
  }
 },
 "nbformat": 4,
 "nbformat_minor": 2
}
