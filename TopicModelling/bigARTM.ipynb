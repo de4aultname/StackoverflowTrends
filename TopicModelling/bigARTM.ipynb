{
 "cells": [
  {
   "cell_type": "code",
   "execution_count": 3,
   "metadata": {},
   "outputs": [],
   "source": [
    "%matplotlib inline\n",
    "import matplotlib.pyplot as plt\n",
    "import artm\n",
    "  \n",
    "#batch_vectorizer = artm.BatchVectorizer(data_path='posts-tags',data_format='batches')     \n",
    "#dictionary = artm.Dictionary()  \n",
    "#dictionary.load_text(\"posts-tags/dictionary.txt\", encoding='utf-8')\n",
    "\n",
    "batch_vectorizer = artm.BatchVectorizer(data_path='vw.tags.100.txt', data_format='vowpal_wabbit',target_folder='posts-tags')\n",
    "dictionary = batch_vectorizer.dictionary"
   ]
  },
  {
   "cell_type": "code",
   "execution_count": 4,
   "metadata": {},
   "outputs": [],
   "source": [
    "topic_names = ['topic_{}'.format(i) for i in range(905)]\n",
    "model_artm = artm.ARTM(topic_names = topic_names, num_processors = 4, cache_theta = True, theta_columns_naming = 'post',\n",
    "                       scores = [artm.PerplexityScore(name = 'PerplexityScore', dictionary = dictionary), \n",
    "                                artm.SparsityPhiScore(name='SparsityPhiScore'),\n",
    "                                artm.SparsityThetaScore(name='SparsityThetaScore')],\n",
    "                       regularizers = [artm.DecorrelatorPhiRegularizer(name='DecorrelatorPhi', tau=1.5e+5), \n",
    "                                      artm.SmoothSparsePhiRegularizer(name='SparsePhi', tau=-0.1),\n",
    "                                      artm.SmoothSparseThetaRegularizer(name='SparseTheta',tau=-0.1)], \n",
    "                      num_document_passes = 1, seed = 62, show_progress_bars = True)\n",
    "\n",
    "model_artm.initialize(dictionary=dictionary)\n",
    "\n",
    "def print_measures(model_artm):\n",
    "    print('Sparsity Phi: {1:.3f}'.format(\n",
    "        model_artm.score_tracker['SparsityPhiScore'].last_value))\n",
    "\n",
    "    print('Sparsity Theta: {1:.3f}'.format(\n",
    "        model_artm.score_tracker['SparsityThetaScore'].last_value))\n",
    "\n",
    "    print('Kernel contrast: {1:.3f}'.format(\n",
    "        model_artm.score_tracker['TopicKernelScore'].last_average_contrast))\n",
    "\n",
    "    print('Kernel purity: {0:.3f} {1:.3f} (ARTM)'.format(\n",
    "        model_artm.score_tracker['TopicKernelScore'].last_average_purity))\n",
    "\n",
    "    print('Perplexity: {1:.3f}'.format(\n",
    "        model_artm.score_tracker['PerplexityScore'].last_value))\n",
    "\n",
    "    plt.plot(range(model_artm.num_phi_updates),\n",
    "             model_artm.score_tracker['PerplexityScore'].value, 'r--', linewidth=2)\n",
    "    plt.xlabel('Iterations count')\n",
    "    plt.ylabel('ARTM PerplexityScore')\n",
    "    plt.grid(True)\n",
    "    plt.show()    "
   ]
  },
  {
   "cell_type": "code",
   "execution_count": null,
   "metadata": {},
   "outputs": [
    {
     "data": {
      "application/vnd.jupyter.widget-view+json": {
       "model_id": "d25a9963485f4542b579ce32d12065ec",
       "version_major": 2,
       "version_minor": 0
      },
      "text/plain": [
       "HBox(children=(IntProgress(value=0, description='Batch', max=18125, style=ProgressStyle(description_width='ini…"
      ]
     },
     "metadata": {},
     "output_type": "display_data"
    }
   ],
   "source": [
    "%%time\n",
    "model_artm.fit_online(batch_vectorizer = batch_vectorizer, asynchronous = True)"
   ]
  },
  {
   "cell_type": "code",
   "execution_count": null,
   "metadata": {},
   "outputs": [],
   "source": [
    "print_measures(model_artm)"
   ]
  }
 ],
 "metadata": {
  "kernelspec": {
   "display_name": "Python 3",
   "language": "python",
   "name": "python3"
  },
  "language_info": {
   "codemirror_mode": {
    "name": "ipython",
    "version": 3
   },
   "file_extension": ".py",
   "mimetype": "text/x-python",
   "name": "python",
   "nbconvert_exporter": "python",
   "pygments_lexer": "ipython3",
   "version": "3.7.3"
  },
  "pycharm": {
   "stem_cell": {
    "cell_type": "raw",
    "metadata": {
     "collapsed": false
    },
    "source": []
   }
  }
 },
 "nbformat": 4,
 "nbformat_minor": 1
}
