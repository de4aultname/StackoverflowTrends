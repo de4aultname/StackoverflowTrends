{
 "cells": [
  {
   "cell_type": "code",
   "execution_count": 9,
   "metadata": {
    "pycharm": {
     "is_executing": false
    }
   },
   "outputs": [
    {
     "name": "stdout",
     "output_type": "stream",
     "text": [
      "Sparsity Phi: 0.000 (PLSA) vs. 0.469 (ARTM)\n",
      "Sparsity Theta: 0.000 (PLSA) vs. 0.001 (ARTM)\n",
      "Kernel contrast: 0.466 (PLSA) vs. 0.525 (ARTM)\n",
      "Kernel purity: 0.215 (PLSA) vs. 0.359 (ARTM)\n",
      "Perplexity: 2058.027 (PLSA) vs. 1950.717 (ARTM)\n"
     ]
    },
    {
     "data": {
      "image/png": "[encoded data removed]",
      "text/plain": [
       "<Figure size 432x288 with 1 Axes>"
      ]
     },
     "metadata": {
      "needs_background": "light"
     },
     "output_type": "display_data"
    }
   ],
   "source": [
    "%matplotlib inline\n",
    "import glob\n",
    "import os\n",
    "import matplotlib.pyplot as plt\n",
    "import artm\n",
    "\n",
    "batch_vectorizer = None\n",
    "batch_vectorizer = artm.BatchVectorizer(data_path='', data_format='bow_uci',\n",
    "                                            collection_name='kos', target_folder='kos')\n",
    "\n",
    "    \n",
    "dictionary = batch_vectorizer.dictionary\n",
    "topic_names = ['topic_{}'.format(i) for i in range(15)]\n",
    "\n",
    "model_plsa = artm.ARTM(topic_names=topic_names, cache_theta=True,\n",
    "                       scores=[artm.PerplexityScore(name='PerplexityScore',\n",
    "                                                    dictionary=dictionary)])\n",
    "model_plsa.initialize(dictionary=dictionary)\n",
    "\n",
    "model_artm = artm.ARTM(topic_names=topic_names, cache_theta=True,\n",
    "                       scores=[artm.PerplexityScore(name='PerplexityScore',\n",
    "                                                    dictionary=dictionary)],\n",
    "                       regularizers=[artm.SmoothSparseThetaRegularizer(name='SparseTheta',\n",
    "                                                                       tau=-0.15)])\n",
    "model_artm.initialize(dictionary=dictionary)\n",
    "\n",
    "model_plsa.scores.add(artm.SparsityPhiScore(name='SparsityPhiScore'))\n",
    "model_plsa.scores.add(artm.SparsityThetaScore(name='SparsityThetaScore'))\n",
    "model_plsa.scores.add(artm.TopicKernelScore(name='TopicKernelScore',\n",
    "                                            probability_mass_threshold=0.3))\n",
    "\n",
    "model_artm.scores.add(artm.SparsityPhiScore(name='SparsityPhiScore'))\n",
    "model_artm.scores.add(artm.SparsityThetaScore(name='SparsityThetaScore'))\n",
    "model_artm.scores.add(artm.TopicKernelScore(name='TopicKernelScore',\n",
    "                                                  probability_mass_threshold=0.3))\n",
    "\n",
    "model_artm.regularizers.add(artm.SmoothSparsePhiRegularizer(name='SparsePhi', tau=-0.1))\n",
    "model_artm.regularizers.add(artm.DecorrelatorPhiRegularizer(name='DecorrelatorPhi', tau=1.5e+5))\n",
    "\n",
    "model_plsa.num_document_passes = 1\n",
    "model_artm.num_document_passes = 1\n",
    "\n",
    "model_plsa.fit_offline(batch_vectorizer=batch_vectorizer, num_collection_passes=15)\n",
    "model_artm.fit_offline(batch_vectorizer=batch_vectorizer, num_collection_passes=15)\n",
    "\n",
    "def print_measures(model_plsa, model_artm):\n",
    "    print('Sparsity Phi: {0:.3f} (PLSA) vs. {1:.3f} (ARTM)'.format(\n",
    "        model_plsa.score_tracker['SparsityPhiScore'].last_value,\n",
    "        model_artm.score_tracker['SparsityPhiScore'].last_value))\n",
    "\n",
    "    print('Sparsity Theta: {0:.3f} (PLSA) vs. {1:.3f} (ARTM)'.format(\n",
    "        model_plsa.score_tracker['SparsityThetaScore'].last_value,\n",
    "        model_artm.score_tracker['SparsityThetaScore'].last_value))\n",
    "\n",
    "    print('Kernel contrast: {0:.3f} (PLSA) vs. {1:.3f} (ARTM)'.format(\n",
    "        model_plsa.score_tracker['TopicKernelScore'].last_average_contrast,\n",
    "        model_artm.score_tracker['TopicKernelScore'].last_average_contrast))\n",
    "\n",
    "    print('Kernel purity: {0:.3f} (PLSA) vs. {1:.3f} (ARTM)'.format(\n",
    "        model_plsa.score_tracker['TopicKernelScore'].last_average_purity,\n",
    "        model_artm.score_tracker['TopicKernelScore'].last_average_purity))\n",
    "\n",
    "    print('Perplexity: {0:.3f} (PLSA) vs. {1:.3f} (ARTM)'.format(\n",
    "        model_plsa.score_tracker['PerplexityScore'].last_value,\n",
    "        model_artm.score_tracker['PerplexityScore'].last_value))\n",
    "\n",
    "    plt.plot(range(model_plsa.num_phi_updates),\n",
    "             model_plsa.score_tracker['PerplexityScore'].value, 'b--',\n",
    "             range(model_artm.num_phi_updates),\n",
    "             model_artm.score_tracker['PerplexityScore'].value, 'r--', linewidth=2)\n",
    "    plt.xlabel('Iterations count')\n",
    "    plt.ylabel('PLSA perp. (blue), ARTM perp. (red)')\n",
    "    plt.grid(True)\n",
    "    plt.show()\n",
    "\n",
    "print_measures(model_plsa, model_artm)"
   ]
  }
 ],
 "metadata": {
  "kernelspec": {
   "display_name": "Python 3",
   "language": "python",
   "name": "python3"
  },
  "language_info": {
   "codemirror_mode": {
    "name": "ipython",
    "version": 3
   },
   "file_extension": ".py",
   "mimetype": "text/x-python",
   "name": "python",
   "nbconvert_exporter": "python",
   "pygments_lexer": "ipython3",
   "version": "3.7.3"
  },
  "pycharm": {
   "stem_cell": {
    "cell_type": "raw",
    "metadata": {
     "collapsed": false
    },
    "source": []
   }
  }
 },
 "nbformat": 4,
 "nbformat_minor": 1
}
