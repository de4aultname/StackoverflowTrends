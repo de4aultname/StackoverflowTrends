{
 "cells": [
  {
   "cell_type": "code",
   "execution_count": null,
   "metadata": {},
   "outputs": [],
   "source": [
    "%matplotlib inline\n",
    "import matplotlib.pyplot as plt\n",
    "import artm\n",
    "  \n",
    "batch_vectorizer = artm.BatchVectorizer(data_path='posts-tags',data_format='batches') \n",
    "    \n",
    "dictionary = artm.Dictionary()  \n",
    "dictionary.load_text(\"posts-tags/dictionary.txt\", encoding='utf-8')"
   ]
  }
 ],
 "metadata": {
  "kernelspec": {
   "display_name": "Python 3",
   "language": "python",
   "name": "python3"
  },
  "language_info": {
   "codemirror_mode": {
    "name": "ipython",
    "version": 3
   },
   "file_extension": ".py",
   "mimetype": "text/x-python",
   "name": "python",
   "nbconvert_exporter": "python",
   "pygments_lexer": "ipython3",
   "version": "3.7.3"
  },
  "pycharm": {
   "stem_cell": {
    "cell_type": "raw",
    "metadata": {
     "collapsed": false
    },
    "source": [
     "    #%%\n",
     "    \n",
     "    %matplotlib inline\n",
     "    import matplotlib.pyplot as plt\n",
     "    import artm\n",
     "    \n",
     "    batch_vectorizer = artm.BatchVectorizer(data_path='posts-tags',data_format='batches') \n",
     "\n",
     "dictionary = artm.Dictionary()\n",
     "dictionary.load_text(\"posts-tags/dictionary.txt\", encoding='utf-8')\n",
     "\n"
    ]
   }
  }
 },
 "nbformat": 4,
 "nbformat_minor": 1
}
