{
 "cells": [
  {
   "cell_type": "code",
   "execution_count": 1,
   "metadata": {},
   "outputs": [],
   "source": [
    "%matplotlib inline\n",
    "import matplotlib.pyplot as plt\n",
    "import artm\n",
    "import copy\n",
    "import re\n",
    "\n",
    "\n",
    "batch_vectorizer = artm.BatchVectorizer(data_path='vw.tags.100.txt', data_format='vowpal_wabbit',target_folder='posts-tags-100')\n",
    "dictionary = batch_vectorizer.dictionary"
   ]
  },
  {
   "cell_type": "code",
   "execution_count": 2,
   "metadata": {},
   "outputs": [],
   "source": [
    "sparsity_phi_grid = [-5, -10, -15]\n",
    "decorrelation_phi_grid = [50000, 100000, 500000]\n",
    "num_topics_grid = [1000, 1500, 2000]"
   ]
  },
  {
   "cell_type": "code",
   "execution_count": null,
   "metadata": {},
   "outputs": [],
   "source": [
    "perplexity_tracker = 18100\n",
    "contrast_tracker = 0\n",
    "purity_tracker = 0\n",
    "\n",
    "best_perplexity_model = []\n",
    "best_contrast_model = []\n",
    "best_purity_model = []\n",
    "\n",
    "for num_topics in num_topics_grid:\n",
    "    topic_names = ['topic_{}'.format(i) for i in range(num_topics)]\n",
    "    for sparsity_phi in sparsity_phi_grid:\n",
    "        for decorrelation_phi in decorrelation_phi_grid:\n",
    "            metrics = []\n",
    "            model_artm = artm.ARTM(topic_names = topic_names, num_processors = 4,\n",
    "                    scores = [artm.PerplexityScore(name = 'PerplexityScore', dictionary = dictionary), \n",
    "                            artm.SparsityPhiScore(name = 'SparsityPhiScore'),\n",
    "                            artm.SparsityThetaScore(name = 'SparsityThetaScore'), \n",
    "                            artm.TopicKernelScore(name = 'TopicKernelScore', probability_mass_threshold = 0.1),\n",
    "                            artm.TopTokensScore(name = 'TopTokensScore', num_tokens = 20)],\n",
    "                    regularizers = [artm.DecorrelatorPhiRegularizer(name = 'decorrelator_phi_regularizer', tau = decorrelation_phi),\n",
    "                                    artm.SmoothSparsePhiRegularizer(name='sparse_phi_regularizer', tau = sparsity_phi)],\n",
    "                    seed = 62, show_progress_bars = False)\n",
    "            model_artm.initialize(dictionary = dictionary)\n",
    "            model_artm.fit_offline(batch_vectorizer=batch_vectorizer, num_collection_passes = 15)\n",
    "            metrics.append(model_artm.get_score('SparsityPhiScore').value)\n",
    "            metrics.append(model_artm.get_score('SparsityThetaScore').value)\n",
    "            metrics.append(model_artm.get_score('TopicKernelScore').average_kernel_contrast)\n",
    "            metrics.append(model_artm.get_score('TopicKernelScore').average_kernel_purity)\n",
    "            metrics.append(model_artm.get_score('PerplexityScore').value)\n",
    "            filename = str(num_topics) + \"_\" + str(sparsity_phi) + \"_\" + str(decorrelation_phi) + \".txt\"\n",
    "            with open(filename, 'w') as f:\n",
    "                for item in metrics:\n",
    "                    f.write(\"%s\\n\" % item)\n",
    "            if (model_artm.get_score('PerplexityScore').value < perplexity_tracker):\n",
    "                perplexity_tracker = model_artm.get_score('PerplexityScore').value\n",
    "                best_perplexity_model = [num_topics, sparsity_phi, decorrelation_phi]\n",
    "            if (model_artm.get_score('TopicKernelScore').average_kernel_purity > purity_tracker):\n",
    "                purity_tracker = model_artm.get_score('TopicKernelScore').average_kernel_purity\n",
    "                best_purity_model = [num_topics, sparsity_phi, decorrelation_phi]\n",
    "            if (model_artm.get_score('TopicKernelScore').average_kernel_contrast > contrast_tracker):\n",
    "                contrast_tracker = model_artm.get_score('TopicKernelScore').average_kernel_contrast\n",
    "                best_contrast_model = [num_topics, sparsity_phi, decorrelation_phi]"
   ]
  }
 ],
 "metadata": {
  "kernelspec": {
   "display_name": "Python 3",
   "language": "python",
   "name": "python3"
  },
  "language_info": {
   "codemirror_mode": {
    "name": "ipython",
    "version": 3
   },
   "file_extension": ".py",
   "mimetype": "text/x-python",
   "name": "python",
   "nbconvert_exporter": "python",
   "pygments_lexer": "ipython3",
   "version": "3.7.3"
  }
 },
 "nbformat": 4,
 "nbformat_minor": 2
}
